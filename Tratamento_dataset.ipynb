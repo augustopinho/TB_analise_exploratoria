{
 "cells": [
  {
   "cell_type": "code",
   "execution_count": 61,
   "metadata": {},
   "outputs": [],
   "source": [
    "# Fazer o GROUP BY (SQL ou Python)\n",
    "# Fazer análises de acordo com o GROUP BY\n",
    "# Fazer gráficos"
   ]
  },
  {
   "cell_type": "markdown",
   "metadata": {},
   "source": [
    "### Importando bibliotecas e lendo arquivos"
   ]
  },
  {
   "cell_type": "code",
   "execution_count": 62,
   "metadata": {},
   "outputs": [],
   "source": [
    "# Importando bibliotecas\n",
    "import pandas as pd\n",
    "import numpy as np\n",
    "import seaborn as sns\n",
    "import matplotlib.pyplot as plt"
   ]
  },
  {
   "cell_type": "code",
   "execution_count": 63,
   "metadata": {},
   "outputs": [],
   "source": [
    "# Lendo arquivo e alocando em uma variavel\n",
    "base_estoque = pd.read_excel('base_AE/(1)base_estoque(original).xlsx')"
   ]
  },
  {
   "cell_type": "markdown",
   "metadata": {},
   "source": [
    "### (ETL) Entendo a tabela e ja fazendo alterações:"
   ]
  },
  {
   "cell_type": "markdown",
   "metadata": {},
   "source": [
    "#### Vizualizando a tabela:"
   ]
  },
  {
   "cell_type": "code",
   "execution_count": 64,
   "metadata": {},
   "outputs": [
    {
     "data": {
      "text/html": [
       "<div>\n",
       "<style scoped>\n",
       "    .dataframe tbody tr th:only-of-type {\n",
       "        vertical-align: middle;\n",
       "    }\n",
       "\n",
       "    .dataframe tbody tr th {\n",
       "        vertical-align: top;\n",
       "    }\n",
       "\n",
       "    .dataframe thead th {\n",
       "        text-align: right;\n",
       "    }\n",
       "</style>\n",
       "<table border=\"1\" class=\"dataframe\">\n",
       "  <thead>\n",
       "    <tr style=\"text-align: right;\">\n",
       "      <th></th>\n",
       "      <th>Descrição</th>\n",
       "      <th>Portfólio</th>\n",
       "      <th>Estoque Inicial</th>\n",
       "      <th>Entrada</th>\n",
       "      <th>Saída</th>\n",
       "      <th>Estoque Final</th>\n",
       "      <th>Estoque Inicial.1</th>\n",
       "      <th>Entrada.1</th>\n",
       "      <th>Saída.1</th>\n",
       "      <th>Estoque Final.1</th>\n",
       "      <th>Custo Unitário</th>\n",
       "      <th># Vendas Projetadas - 12 meses</th>\n",
       "    </tr>\n",
       "  </thead>\n",
       "  <tbody>\n",
       "    <tr>\n",
       "      <th>0</th>\n",
       "      <td>Jade Refil Difusor Ambiente 250ml</td>\n",
       "      <td>PERFUMARIA CASA</td>\n",
       "      <td>600</td>\n",
       "      <td>229.0</td>\n",
       "      <td>400.0</td>\n",
       "      <td>429</td>\n",
       "      <td>27040.27</td>\n",
       "      <td>10373.66</td>\n",
       "      <td>18098.34</td>\n",
       "      <td>19315.59</td>\n",
       "      <td>45.024685</td>\n",
       "      <td>2347</td>\n",
       "    </tr>\n",
       "    <tr>\n",
       "      <th>1</th>\n",
       "      <td>Jade Vela TB Cristal 190G</td>\n",
       "      <td>PERFUMARIA CASA</td>\n",
       "      <td>7</td>\n",
       "      <td>NaN</td>\n",
       "      <td>NaN</td>\n",
       "      <td>7</td>\n",
       "      <td>203.97</td>\n",
       "      <td>NaN</td>\n",
       "      <td>NaN</td>\n",
       "      <td>203.97</td>\n",
       "      <td>29.138571</td>\n",
       "      <td>4</td>\n",
       "    </tr>\n",
       "    <tr>\n",
       "      <th>2</th>\n",
       "      <td>Jade Sabonete Barra 150G</td>\n",
       "      <td>PERFUMARIA CASA</td>\n",
       "      <td>1989</td>\n",
       "      <td>147.0</td>\n",
       "      <td>409.0</td>\n",
       "      <td>1727</td>\n",
       "      <td>21665.00</td>\n",
       "      <td>1602.78</td>\n",
       "      <td>4459.23</td>\n",
       "      <td>18808.55</td>\n",
       "      <td>10.890880</td>\n",
       "      <td>3084</td>\n",
       "    </tr>\n",
       "    <tr>\n",
       "      <th>3</th>\n",
       "      <td>Copo Short Drink Búzios Transparente</td>\n",
       "      <td>TABLEWARE</td>\n",
       "      <td>407</td>\n",
       "      <td>0.0</td>\n",
       "      <td>17.0</td>\n",
       "      <td>390</td>\n",
       "      <td>19637.62</td>\n",
       "      <td>0.00</td>\n",
       "      <td>821.27</td>\n",
       "      <td>18816.35</td>\n",
       "      <td>48.247051</td>\n",
       "      <td>472</td>\n",
       "    </tr>\n",
       "    <tr>\n",
       "      <th>4</th>\n",
       "      <td>Copo Long Drink Búzios Transparente</td>\n",
       "      <td>TABLEWARE</td>\n",
       "      <td>204</td>\n",
       "      <td>27.0</td>\n",
       "      <td>55.0</td>\n",
       "      <td>176</td>\n",
       "      <td>10034.31</td>\n",
       "      <td>1328.07</td>\n",
       "      <td>2705.34</td>\n",
       "      <td>8657.04</td>\n",
       "      <td>49.187727</td>\n",
       "      <td>494</td>\n",
       "    </tr>\n",
       "    <tr>\n",
       "      <th>...</th>\n",
       "      <td>...</td>\n",
       "      <td>...</td>\n",
       "      <td>...</td>\n",
       "      <td>...</td>\n",
       "      <td>...</td>\n",
       "      <td>...</td>\n",
       "      <td>...</td>\n",
       "      <td>...</td>\n",
       "      <td>...</td>\n",
       "      <td>...</td>\n",
       "      <td>...</td>\n",
       "      <td>...</td>\n",
       "    </tr>\n",
       "    <tr>\n",
       "      <th>2210</th>\n",
       "      <td>Prancha de Surf Copacabana</td>\n",
       "      <td>TABLEWARE</td>\n",
       "      <td>0</td>\n",
       "      <td>3.0</td>\n",
       "      <td>4.0</td>\n",
       "      <td>-1</td>\n",
       "      <td>0.00</td>\n",
       "      <td>4085.00</td>\n",
       "      <td>2042.50</td>\n",
       "      <td>2042.50</td>\n",
       "      <td>-2042.500000</td>\n",
       "      <td>0</td>\n",
       "    </tr>\n",
       "    <tr>\n",
       "      <th>2211</th>\n",
       "      <td>Taça Mar</td>\n",
       "      <td>TABLEWARE</td>\n",
       "      <td>0</td>\n",
       "      <td>232.0</td>\n",
       "      <td>92.0</td>\n",
       "      <td>140</td>\n",
       "      <td>0.00</td>\n",
       "      <td>7825.36</td>\n",
       "      <td>3103.16</td>\n",
       "      <td>4722.20</td>\n",
       "      <td>33.730000</td>\n",
       "      <td>70</td>\n",
       "    </tr>\n",
       "    <tr>\n",
       "      <th>2212</th>\n",
       "      <td>Copo Short Drink Mar</td>\n",
       "      <td>TABLEWARE</td>\n",
       "      <td>0</td>\n",
       "      <td>234.0</td>\n",
       "      <td>92.0</td>\n",
       "      <td>142</td>\n",
       "      <td>0.00</td>\n",
       "      <td>7200.18</td>\n",
       "      <td>2830.84</td>\n",
       "      <td>4369.34</td>\n",
       "      <td>30.770000</td>\n",
       "      <td>71</td>\n",
       "    </tr>\n",
       "    <tr>\n",
       "      <th>2213</th>\n",
       "      <td>Xícara de Chá Copacabana</td>\n",
       "      <td>TABLEWARE</td>\n",
       "      <td>0</td>\n",
       "      <td>120.0</td>\n",
       "      <td>120.0</td>\n",
       "      <td>0</td>\n",
       "      <td>0.00</td>\n",
       "      <td>0.00</td>\n",
       "      <td>0.00</td>\n",
       "      <td>0.00</td>\n",
       "      <td>0.000000</td>\n",
       "      <td>0</td>\n",
       "    </tr>\n",
       "    <tr>\n",
       "      <th>2214</th>\n",
       "      <td>Travessa M Petit Pois</td>\n",
       "      <td>TABLEWARE</td>\n",
       "      <td>0</td>\n",
       "      <td>5.0</td>\n",
       "      <td>5.0</td>\n",
       "      <td>0</td>\n",
       "      <td>0.00</td>\n",
       "      <td>1417.55</td>\n",
       "      <td>1417.55</td>\n",
       "      <td>0.00</td>\n",
       "      <td>0.000000</td>\n",
       "      <td>0</td>\n",
       "    </tr>\n",
       "  </tbody>\n",
       "</table>\n",
       "<p>2215 rows × 12 columns</p>\n",
       "</div>"
      ],
      "text/plain": [
       "                                 Descrição        Portfólio  Estoque Inicial  \\\n",
       "0        Jade Refil Difusor Ambiente 250ml  PERFUMARIA CASA              600   \n",
       "1                Jade Vela TB Cristal 190G  PERFUMARIA CASA                7   \n",
       "2                 Jade Sabonete Barra 150G  PERFUMARIA CASA             1989   \n",
       "3     Copo Short Drink Búzios Transparente        TABLEWARE              407   \n",
       "4      Copo Long Drink Búzios Transparente        TABLEWARE              204   \n",
       "...                                    ...              ...              ...   \n",
       "2210            Prancha de Surf Copacabana        TABLEWARE                0   \n",
       "2211                              Taça Mar        TABLEWARE                0   \n",
       "2212                  Copo Short Drink Mar        TABLEWARE                0   \n",
       "2213              Xícara de Chá Copacabana        TABLEWARE                0   \n",
       "2214                 Travessa M Petit Pois        TABLEWARE                0   \n",
       "\n",
       "      Entrada  Saída  Estoque Final  Estoque Inicial.1  Entrada.1   Saída.1  \\\n",
       "0       229.0  400.0            429           27040.27   10373.66  18098.34   \n",
       "1         NaN    NaN              7             203.97        NaN       NaN   \n",
       "2       147.0  409.0           1727           21665.00    1602.78   4459.23   \n",
       "3         0.0   17.0            390           19637.62       0.00    821.27   \n",
       "4        27.0   55.0            176           10034.31    1328.07   2705.34   \n",
       "...       ...    ...            ...                ...        ...       ...   \n",
       "2210      3.0    4.0             -1               0.00    4085.00   2042.50   \n",
       "2211    232.0   92.0            140               0.00    7825.36   3103.16   \n",
       "2212    234.0   92.0            142               0.00    7200.18   2830.84   \n",
       "2213    120.0  120.0              0               0.00       0.00      0.00   \n",
       "2214      5.0    5.0              0               0.00    1417.55   1417.55   \n",
       "\n",
       "      Estoque Final.1  Custo Unitário  # Vendas Projetadas - 12 meses  \n",
       "0            19315.59       45.024685                            2347  \n",
       "1              203.97       29.138571                               4  \n",
       "2            18808.55       10.890880                            3084  \n",
       "3            18816.35       48.247051                             472  \n",
       "4             8657.04       49.187727                             494  \n",
       "...               ...             ...                             ...  \n",
       "2210          2042.50    -2042.500000                               0  \n",
       "2211          4722.20       33.730000                              70  \n",
       "2212          4369.34       30.770000                              71  \n",
       "2213             0.00        0.000000                               0  \n",
       "2214             0.00        0.000000                               0  \n",
       "\n",
       "[2215 rows x 12 columns]"
      ]
     },
     "execution_count": 64,
     "metadata": {},
     "output_type": "execute_result"
    }
   ],
   "source": [
    "#Dando uma olhada por cima da tabela\n",
    "base_estoque"
   ]
  },
  {
   "cell_type": "code",
   "execution_count": 65,
   "metadata": {},
   "outputs": [
    {
     "data": {
      "text/plain": [
       "(2215, 12)"
      ]
     },
     "execution_count": 65,
     "metadata": {},
     "output_type": "execute_result"
    }
   ],
   "source": [
    "#Entendo o tamanho da tabela\n",
    "base_estoque.shape"
   ]
  },
  {
   "cell_type": "markdown",
   "metadata": {},
   "source": [
    "#### Vizualizando os types e alterando:"
   ]
  },
  {
   "cell_type": "code",
   "execution_count": 66,
   "metadata": {},
   "outputs": [
    {
     "name": "stdout",
     "output_type": "stream",
     "text": [
      "<class 'pandas.core.frame.DataFrame'>\n",
      "RangeIndex: 2215 entries, 0 to 2214\n",
      "Data columns (total 12 columns):\n",
      " #   Column                          Non-Null Count  Dtype  \n",
      "---  ------                          --------------  -----  \n",
      " 0   Descrição                       2215 non-null   object \n",
      " 1   Portfólio                       2215 non-null   object \n",
      " 2   Estoque Inicial                 2215 non-null   int64  \n",
      " 3   Entrada                         1639 non-null   float64\n",
      " 4   Saída                           1639 non-null   float64\n",
      " 5   Estoque Final                   2215 non-null   int64  \n",
      " 6   Estoque Inicial.1               2215 non-null   float64\n",
      " 7   Entrada.1                       1639 non-null   float64\n",
      " 8   Saída.1                         1639 non-null   float64\n",
      " 9   Estoque Final.1                 2215 non-null   float64\n",
      " 10  Custo Unitário                  2215 non-null   float64\n",
      " 11  # Vendas Projetadas - 12 meses  2215 non-null   int64  \n",
      "dtypes: float64(7), int64(3), object(2)\n",
      "memory usage: 207.8+ KB\n"
     ]
    }
   ],
   "source": [
    "# Entendendo os types dos dados\n",
    "base_estoque.info()"
   ]
  },
  {
   "cell_type": "code",
   "execution_count": 67,
   "metadata": {},
   "outputs": [],
   "source": [
    "# Transformando object em string para ser mais facil na hora de transferir para o SQL e não dar incompatibilidade.\n",
    "\n",
    "# Transformando Descrição\n",
    "base_estoque['Descrição'] = base_estoque['Descrição'].astype(pd.StringDtype())\n",
    "\n",
    "# Transoformando Portfólio\n",
    "base_estoque['Portfólio'] = base_estoque['Portfólio'].astype(pd.StringDtype())"
   ]
  },
  {
   "cell_type": "code",
   "execution_count": 68,
   "metadata": {},
   "outputs": [
    {
     "name": "stdout",
     "output_type": "stream",
     "text": [
      "<class 'pandas.core.frame.DataFrame'>\n",
      "RangeIndex: 2215 entries, 0 to 2214\n",
      "Data columns (total 12 columns):\n",
      " #   Column                          Non-Null Count  Dtype  \n",
      "---  ------                          --------------  -----  \n",
      " 0   Descrição                       2215 non-null   string \n",
      " 1   Portfólio                       2215 non-null   string \n",
      " 2   Estoque Inicial                 2215 non-null   int64  \n",
      " 3   Entrada                         1639 non-null   float64\n",
      " 4   Saída                           1639 non-null   float64\n",
      " 5   Estoque Final                   2215 non-null   int64  \n",
      " 6   Estoque Inicial.1               2215 non-null   float64\n",
      " 7   Entrada.1                       1639 non-null   float64\n",
      " 8   Saída.1                         1639 non-null   float64\n",
      " 9   Estoque Final.1                 2215 non-null   float64\n",
      " 10  Custo Unitário                  2215 non-null   float64\n",
      " 11  # Vendas Projetadas - 12 meses  2215 non-null   int64  \n",
      "dtypes: float64(7), int64(3), string(2)\n",
      "memory usage: 207.8 KB\n"
     ]
    }
   ],
   "source": [
    "# Averiquando se está correto a transformação\n",
    "base_estoque.info()"
   ]
  },
  {
   "cell_type": "markdown",
   "metadata": {},
   "source": [
    "#### Visualizando nulls e valores nulos (0), e tomando decisões:"
   ]
  },
  {
   "cell_type": "code",
   "execution_count": 69,
   "metadata": {},
   "outputs": [
    {
     "data": {
      "text/plain": [
       "Descrição                           0\n",
       "Portfólio                           0\n",
       "Estoque Inicial                     0\n",
       "Entrada                           576\n",
       "Saída                             576\n",
       "Estoque Final                       0\n",
       "Estoque Inicial.1                   0\n",
       "Entrada.1                         576\n",
       "Saída.1                           576\n",
       "Estoque Final.1                     0\n",
       "Custo Unitário                      0\n",
       "# Vendas Projetadas - 12 meses      0\n",
       "dtype: int64"
      ]
     },
     "execution_count": 69,
     "metadata": {},
     "output_type": "execute_result"
    }
   ],
   "source": [
    "# Identificando a quantidade de nulls de duas formas, a forma \" \" e a forma \"(vazio)\"\n",
    "\n",
    "#retorna o número de valores ausentes na forma \" \" para cada coluna.\n",
    "base_estoque.isna().sum()"
   ]
  },
  {
   "cell_type": "markdown",
   "metadata": {},
   "source": [
    "Coméntario:\n",
    "\n",
    "Dando uma olhada pelo excel, onde é mais facil a vizualização da tabela como um todo neste caso. Os nulos no formato ' ' só ocorrem quando não a alteração no estoque (estoque inicial = estoque final), portanto no caso esses nulos tem valor de négocio.\n",
    "\n",
    "OBS: Acontece uma situação pararecida quando em relação a '-' (0), já que quando somente uma alteração no estoque acontece seja ela 'entrada' ou 'saída' ocorre que a outra parte sendo ela 'entrada' ou 'saída' será '-' (0). Assim o valor '-' = 0, é relevante para o négocio."
   ]
  },
  {
   "cell_type": "code",
   "execution_count": 70,
   "metadata": {},
   "outputs": [
    {
     "name": "stdout",
     "output_type": "stream",
     "text": [
      "Contagem de '(vazio)' em cada coluna:\n",
      "Descrição: 38\n",
      "Portfólio: 0\n",
      "Estoque Inicial: 0\n",
      "Entrada: 0\n",
      "Saída: 0\n",
      "Estoque Final: 0\n",
      "Estoque Inicial.1: 0\n",
      "Entrada.1: 0\n",
      "Saída.1: 0\n",
      "Estoque Final.1: 0\n",
      "Custo Unitário: 0\n",
      "# Vendas Projetadas - 12 meses: 0\n",
      "\n",
      "Dimensões:\n",
      "(2215, 12)\n"
     ]
    }
   ],
   "source": [
    "#Calculando a quantidade de '(vazio)' por coluna\n",
    "\n",
    "#Criando dicionario para armazenar a contagem de '(vazio)' por coluna\n",
    "contagens_por_coluna = {}\n",
    "\n",
    "#Contando '(vazio)' por coluna\n",
    "for coluna in base_estoque.columns:\n",
    "    contagem = base_estoque[coluna].astype(str).str.count('(vazio)').sum()\n",
    "    contagens_por_coluna[coluna] = contagem\n",
    "\n",
    "#Mostrando a contagem\n",
    "print(\"Contagem de '(vazio)' em cada coluna:\")\n",
    "for coluna, contagem in contagens_por_coluna.items():\n",
    "    print(f\"{coluna}: {contagem}\")\n",
    "\n",
    "#Identificando as dimensões para ver se foi corretamente excluido posteriormente\n",
    "print('')\n",
    "print('Dimensões:')\n",
    "print(base_estoque.shape)"
   ]
  },
  {
   "cell_type": "markdown",
   "metadata": {},
   "source": [
    "Coméntario:\n",
    "\n",
    "Também Dando uma olhada pelo excel. É possível notar que os valores nulls no formato '(vazio)' presentes só na coluna descrição acarretam em linhas que não identificam nenhum produto. Isso acarreta em linhas que possuem informações relevantes 'Estoque Inicial, 'Entrada', 'Saída', 'Estoque Final', mas não tem a 'fonte' desses dados.\n",
    "\n",
    " O que poderia ser feito para corrigir isso seria: Ou entrar em contato com a fonte dos dados para ajustar esses detalhes e recuperar informações. Ou assumir que será perdido determinada quantidade de informações relacionadas a produtos e manter os dados para contribuir com uma granularidade maior (portfolios) na hora de fazer análises de médidas centrais. Ou ainda excluir as linhas. Nesse caso como eu não tenho contato com a fonte dos dados, vou manter as linhas e continuar a análise, assim eu consigo ter um resultado real referente a questões relacionadas aos portfolios."
   ]
  },
  {
   "cell_type": "markdown",
   "metadata": {},
   "source": [
    "#### Entendendo cada coluna:"
   ]
  },
  {
   "cell_type": "code",
   "execution_count": 71,
   "metadata": {},
   "outputs": [
    {
     "data": {
      "image/png": "[encoded data removed]",
      "text/plain": [
       "<Figure size 640x480 with 1 Axes>"
      ]
     },
     "metadata": {},
     "output_type": "display_data"
    },
    {
     "data": {
      "image/png": "[encoded data removed]",
      "text/plain": [
       "<Figure size 640x480 with 1 Axes>"
      ]
     },
     "metadata": {},
     "output_type": "display_data"
    },
    {
     "data": {
      "image/png": "[encoded data removed]",
      "text/plain": [
       "<Figure size 640x480 with 1 Axes>"
      ]
     },
     "metadata": {},
     "output_type": "display_data"
    },
    {
     "data": {
      "image/png": "[encoded data removed]",
      "text/plain": [
       "<Figure size 640x480 with 1 Axes>"
      ]
     },
     "metadata": {},
     "output_type": "display_data"
    },
    {
     "data": {
      "image/png": "[encoded data removed]",
      "text/plain": [
       "<Figure size 640x480 with 1 Axes>"
      ]
     },
     "metadata": {},
     "output_type": "display_data"
    },
    {
     "data": {
      "image/png": "[encoded data removed]",
      "text/plain": [
       "<Figure size 640x480 with 1 Axes>"
      ]
     },
     "metadata": {},
     "output_type": "display_data"
    },
    {
     "data": {
      "image/png": "[encoded data removed]",
      "text/plain": [
       "<Figure size 640x480 with 1 Axes>"
      ]
     },
     "metadata": {},
     "output_type": "display_data"
    },
    {
     "data": {
      "image/png": "[encoded data removed]",
      "text/plain": [
       "<Figure size 640x480 with 1 Axes>"
      ]
     },
     "metadata": {},
     "output_type": "display_data"
    },
    {
     "data": {
      "image/png": "[encoded data removed]",
      "text/plain": [
       "<Figure size 640x480 with 1 Axes>"
      ]
     },
     "metadata": {},
     "output_type": "display_data"
    },
    {
     "data": {
      "image/png": "[encoded data removed]",
      "text/plain": [
       "<Figure size 640x480 with 1 Axes>"
      ]
     },
     "metadata": {},
     "output_type": "display_data"
    }
   ],
   "source": [
    "# Criando boxplot para cada coluna para ver se estão de acordo.\n",
    "\n",
    "# Crie um boxplot para cada coluna numérica\n",
    "for colunas in base_estoque.select_dtypes(include='number'):\n",
    "    plt.figure()\n",
    "    base_estoque[colunas].plot(kind='box', vert=False)\n",
    "    plt.title(f'Boxplot da colunas {colunas}')\n",
    "\n",
    "# Exiba os boxplots\n",
    "plt.show()"
   ]
  },
  {
   "cell_type": "code",
   "execution_count": 72,
   "metadata": {},
   "outputs": [
    {
     "name": "stdout",
     "output_type": "stream",
     "text": [
      "Valores mínimos de acordo com cada coluna:\n",
      "\n",
      "\n",
      "Estoque Inicial: \n",
      "-3\n",
      "\n",
      "Entrada: \n",
      "0.0\n",
      "\n",
      "Saída: \n",
      "0.0\n",
      "\n",
      "Estoque Final: \n",
      "-8\n",
      "\n",
      "Estoque Inicial.1: \n",
      "-498.68\n",
      "\n",
      "Entrada.1: \n",
      "0.0\n",
      "\n",
      "Saída.1: \n",
      "0.0\n",
      "\n",
      "Estoque Final.1: \n",
      "-498.68\n",
      "\n",
      "Custo Unitário: \n",
      "-2042.5\n",
      "\n",
      "# Vendas Projetadas - 12 meses: \n",
      "-57\n",
      "\n",
      "\n",
      "Valores máximos de acordo com cada coluna:\n",
      "\n",
      "\n",
      "Estoque Inicial: \n",
      "7757\n",
      "\n",
      "Entrada: \n",
      "7547.0\n",
      "\n",
      "Saída: \n",
      "5857.0\n",
      "\n",
      "Estoque Final: \n",
      "7757\n",
      "\n",
      "Estoque Inicial.1: \n",
      "1125065.68\n",
      "\n",
      "Entrada.1: \n",
      "277868.36\n",
      "\n",
      "Saída.1: \n",
      "175884.72\n",
      "\n",
      "Estoque Final.1: \n",
      "1109446.3199999998\n",
      "\n",
      "Custo Unitário: \n",
      "7042.92\n",
      "\n",
      "# Vendas Projetadas - 12 meses: \n",
      "23102\n"
     ]
    }
   ],
   "source": [
    "# Trançando os valores mínimos e máximos de cada coluna\n",
    "\n",
    "print('Valores mínimos de acordo com cada coluna:')\n",
    "print(\"\")\n",
    "for coluna in base_estoque.select_dtypes(include='number'):\n",
    "    print(\"\")\n",
    "    print(f'{coluna}: ')\n",
    "    print(base_estoque[coluna].min())\n",
    "\n",
    "print(\"\")\n",
    "print(\"\")\n",
    "print('Valores máximos de acordo com cada coluna:')\n",
    "print(\"\")\n",
    "for coluna in base_estoque.select_dtypes(include='number'):\n",
    "    print(\"\")\n",
    "    print(f'{coluna}: ')\n",
    "    print(base_estoque[coluna].max())"
   ]
  },
  {
   "cell_type": "markdown",
   "metadata": {},
   "source": [
    "Coméntario:\n",
    "\n",
    "Com esses resultados de Boxplots, mínimo e máximos valores, é possivel ver que as colunas fazem sentido, e a grande quantidade de outsiders no boxplots támbem fazem sentido já que são diversos produtos. O único detalhe que não faz sentido, são os valores negativos em determinadas colunas.\n",
    "\n",
    "Aprofundando mais na incorrência. Ela pode ser explicada por perda produtos no decorrer do armazenamento no estoque. Essa explicação só não se encaixa no Custo Unitário, que realmente há outsiders incorretos.\n",
    "\n",
    "OBS: Estou mantendo a versão antes da análise da tabela em um repositorio privado, e em caso de necessidade é possível recuperar este dataframe."
   ]
  },
  {
   "cell_type": "code",
   "execution_count": 73,
   "metadata": {},
   "outputs": [
    {
     "name": "stdout",
     "output_type": "stream",
     "text": [
      "                             Descrição  Portfólio  Estoque Inicial  Entrada  \\\n",
      "320   Set Pratos Sobremesa Pérgola 4pc  TABLEWARE               -2      NaN   \n",
      "321       Set 4 Xícaras de Chá Pérgola  TABLEWARE               -1      NaN   \n",
      "2210        Prancha de Surf Copacabana  TABLEWARE                0      3.0   \n",
      "\n",
      "      Saída  Estoque Final  Estoque Inicial.1  Entrada.1  Saída.1  \\\n",
      "320     NaN             -2             230.74        NaN      NaN   \n",
      "321     NaN             -1             119.49        NaN      NaN   \n",
      "2210    4.0             -1               0.00     4085.0   2042.5   \n",
      "\n",
      "      Estoque Final.1  Custo Unitário  # Vendas Projetadas - 12 meses  \n",
      "320            230.74         -115.37                               0  \n",
      "321            119.49         -119.49                               0  \n",
      "2210          2042.50        -2042.50                               0  \n"
     ]
    }
   ],
   "source": [
    "#Indentificando outsiders incorretos da coluna 'Custo Unitário'.\n",
    "linhas_negativas = base_estoque[base_estoque['Custo Unitário'] < 0]\n",
    "\n",
    "print(linhas_negativas)"
   ]
  },
  {
   "cell_type": "markdown",
   "metadata": {},
   "source": [
    "Sendo poucas linhas é possível alterar diretamente no excel."
   ]
  },
  {
   "cell_type": "markdown",
   "metadata": {},
   "source": [
    "### Exportando a base e Importando com alterações diretas no excel"
   ]
  },
  {
   "cell_type": "code",
   "execution_count": 74,
   "metadata": {},
   "outputs": [],
   "source": [
    "#Exportando dados\n",
    "#base_estoque.to_excel('./base_AE/(2)base_limpa.xlsx')"
   ]
  },
  {
   "cell_type": "code",
   "execution_count": 75,
   "metadata": {},
   "outputs": [],
   "source": [
    "#Importando tabela com alterações\n",
    "base_variaveis = pd.read_excel('./base_AE/(3)base_com_variaveis.xlsx')"
   ]
  },
  {
   "cell_type": "code",
   "execution_count": 76,
   "metadata": {},
   "outputs": [
    {
     "data": {
      "text/html": [
       "<div>\n",
       "<style scoped>\n",
       "    .dataframe tbody tr th:only-of-type {\n",
       "        vertical-align: middle;\n",
       "    }\n",
       "\n",
       "    .dataframe tbody tr th {\n",
       "        vertical-align: top;\n",
       "    }\n",
       "\n",
       "    .dataframe thead th {\n",
       "        text-align: right;\n",
       "    }\n",
       "</style>\n",
       "<table border=\"1\" class=\"dataframe\">\n",
       "  <thead>\n",
       "    <tr style=\"text-align: right;\">\n",
       "      <th></th>\n",
       "      <th>Descrição</th>\n",
       "      <th>Portfólio</th>\n",
       "      <th>Estoque Inicial (Quant)</th>\n",
       "      <th>Entrada (Quant)</th>\n",
       "      <th>Saída (Quant)</th>\n",
       "      <th>Estoque Final (Quant)</th>\n",
       "      <th>Estoque Inicial (Valor)</th>\n",
       "      <th>Entrada (Valor)</th>\n",
       "      <th>Saída (Valor)</th>\n",
       "      <th>Estoque Final (Valor)</th>\n",
       "      <th>Status Estoque</th>\n",
       "      <th>Estoque Final em relação a Estoque Inicial (%)</th>\n",
       "      <th>Custo Unitário</th>\n",
       "      <th># Vendas Projetadas - 12 meses (Quant)</th>\n",
       "      <th># Vendas Projetadas - 12 meses (Valor)</th>\n",
       "      <th>Vendas Projetadas - Média Mensal</th>\n",
       "      <th>Prazo de venda do Estoque Atual (Mês)</th>\n",
       "    </tr>\n",
       "  </thead>\n",
       "  <tbody>\n",
       "    <tr>\n",
       "      <th>0</th>\n",
       "      <td>Jade Refil Difusor Ambiente 250ml</td>\n",
       "      <td>PERFUMARIA CASA</td>\n",
       "      <td>600</td>\n",
       "      <td>229.0</td>\n",
       "      <td>400.0</td>\n",
       "      <td>429</td>\n",
       "      <td>27040.27</td>\n",
       "      <td>10373.66</td>\n",
       "      <td>18098.34</td>\n",
       "      <td>19315.59</td>\n",
       "      <td>Produto em Ordem</td>\n",
       "      <td>0.715000</td>\n",
       "      <td>45.024685</td>\n",
       "      <td>2347</td>\n",
       "      <td>105672.936434</td>\n",
       "      <td>195.583333</td>\n",
       "      <td>2.193438</td>\n",
       "    </tr>\n",
       "    <tr>\n",
       "      <th>1</th>\n",
       "      <td>Jade Vela TB Cristal 190G</td>\n",
       "      <td>PERFUMARIA CASA</td>\n",
       "      <td>7</td>\n",
       "      <td>NaN</td>\n",
       "      <td>NaN</td>\n",
       "      <td>7</td>\n",
       "      <td>203.97</td>\n",
       "      <td>NaN</td>\n",
       "      <td>NaN</td>\n",
       "      <td>203.97</td>\n",
       "      <td>Produto em Ordem</td>\n",
       "      <td>1.000000</td>\n",
       "      <td>29.138571</td>\n",
       "      <td>4</td>\n",
       "      <td>116.554286</td>\n",
       "      <td>0.333333</td>\n",
       "      <td>21.000000</td>\n",
       "    </tr>\n",
       "    <tr>\n",
       "      <th>2</th>\n",
       "      <td>Jade Sabonete Barra 150G</td>\n",
       "      <td>PERFUMARIA CASA</td>\n",
       "      <td>1989</td>\n",
       "      <td>147.0</td>\n",
       "      <td>409.0</td>\n",
       "      <td>1727</td>\n",
       "      <td>21665.00</td>\n",
       "      <td>1602.78</td>\n",
       "      <td>4459.23</td>\n",
       "      <td>18808.55</td>\n",
       "      <td>Produto em Ordem</td>\n",
       "      <td>0.868276</td>\n",
       "      <td>10.890880</td>\n",
       "      <td>3084</td>\n",
       "      <td>33587.474349</td>\n",
       "      <td>257.000000</td>\n",
       "      <td>6.719844</td>\n",
       "    </tr>\n",
       "    <tr>\n",
       "      <th>3</th>\n",
       "      <td>Copo Short Drink Búzios Transparente</td>\n",
       "      <td>TABLEWARE</td>\n",
       "      <td>407</td>\n",
       "      <td>0.0</td>\n",
       "      <td>17.0</td>\n",
       "      <td>390</td>\n",
       "      <td>19637.62</td>\n",
       "      <td>0.00</td>\n",
       "      <td>821.27</td>\n",
       "      <td>18816.35</td>\n",
       "      <td>Produto em Ordem</td>\n",
       "      <td>0.958231</td>\n",
       "      <td>48.247051</td>\n",
       "      <td>472</td>\n",
       "      <td>22772.608205</td>\n",
       "      <td>39.333333</td>\n",
       "      <td>9.915254</td>\n",
       "    </tr>\n",
       "    <tr>\n",
       "      <th>4</th>\n",
       "      <td>Copo Long Drink Búzios Transparente</td>\n",
       "      <td>TABLEWARE</td>\n",
       "      <td>204</td>\n",
       "      <td>27.0</td>\n",
       "      <td>55.0</td>\n",
       "      <td>176</td>\n",
       "      <td>10034.31</td>\n",
       "      <td>1328.07</td>\n",
       "      <td>2705.34</td>\n",
       "      <td>8657.04</td>\n",
       "      <td>Produto em Ordem</td>\n",
       "      <td>0.862745</td>\n",
       "      <td>49.187727</td>\n",
       "      <td>494</td>\n",
       "      <td>24298.737273</td>\n",
       "      <td>41.166667</td>\n",
       "      <td>4.275304</td>\n",
       "    </tr>\n",
       "    <tr>\n",
       "      <th>...</th>\n",
       "      <td>...</td>\n",
       "      <td>...</td>\n",
       "      <td>...</td>\n",
       "      <td>...</td>\n",
       "      <td>...</td>\n",
       "      <td>...</td>\n",
       "      <td>...</td>\n",
       "      <td>...</td>\n",
       "      <td>...</td>\n",
       "      <td>...</td>\n",
       "      <td>...</td>\n",
       "      <td>...</td>\n",
       "      <td>...</td>\n",
       "      <td>...</td>\n",
       "      <td>...</td>\n",
       "      <td>...</td>\n",
       "      <td>...</td>\n",
       "    </tr>\n",
       "    <tr>\n",
       "      <th>2210</th>\n",
       "      <td>Prancha de Surf Copacabana</td>\n",
       "      <td>TABLEWARE</td>\n",
       "      <td>0</td>\n",
       "      <td>3.0</td>\n",
       "      <td>4.0</td>\n",
       "      <td>-1</td>\n",
       "      <td>0.00</td>\n",
       "      <td>4085.00</td>\n",
       "      <td>2042.50</td>\n",
       "      <td>2042.50</td>\n",
       "      <td>Produto em Falta</td>\n",
       "      <td>0.000000</td>\n",
       "      <td>2042.500000</td>\n",
       "      <td>0</td>\n",
       "      <td>0.000000</td>\n",
       "      <td>0.000000</td>\n",
       "      <td>0.000000</td>\n",
       "    </tr>\n",
       "    <tr>\n",
       "      <th>2211</th>\n",
       "      <td>Taça Mar</td>\n",
       "      <td>TABLEWARE</td>\n",
       "      <td>0</td>\n",
       "      <td>232.0</td>\n",
       "      <td>92.0</td>\n",
       "      <td>140</td>\n",
       "      <td>0.00</td>\n",
       "      <td>7825.36</td>\n",
       "      <td>3103.16</td>\n",
       "      <td>4722.20</td>\n",
       "      <td>Produto em Ordem</td>\n",
       "      <td>0.000000</td>\n",
       "      <td>33.730000</td>\n",
       "      <td>70</td>\n",
       "      <td>2361.100000</td>\n",
       "      <td>5.833333</td>\n",
       "      <td>24.000000</td>\n",
       "    </tr>\n",
       "    <tr>\n",
       "      <th>2212</th>\n",
       "      <td>Copo Short Drink Mar</td>\n",
       "      <td>TABLEWARE</td>\n",
       "      <td>0</td>\n",
       "      <td>234.0</td>\n",
       "      <td>92.0</td>\n",
       "      <td>142</td>\n",
       "      <td>0.00</td>\n",
       "      <td>7200.18</td>\n",
       "      <td>2830.84</td>\n",
       "      <td>4369.34</td>\n",
       "      <td>Produto em Ordem</td>\n",
       "      <td>0.000000</td>\n",
       "      <td>30.770000</td>\n",
       "      <td>71</td>\n",
       "      <td>2184.670000</td>\n",
       "      <td>5.916667</td>\n",
       "      <td>24.000000</td>\n",
       "    </tr>\n",
       "    <tr>\n",
       "      <th>2213</th>\n",
       "      <td>Xícara de Chá Copacabana</td>\n",
       "      <td>TABLEWARE</td>\n",
       "      <td>0</td>\n",
       "      <td>120.0</td>\n",
       "      <td>120.0</td>\n",
       "      <td>0</td>\n",
       "      <td>0.00</td>\n",
       "      <td>0.00</td>\n",
       "      <td>0.00</td>\n",
       "      <td>0.00</td>\n",
       "      <td>Produto em Ordem</td>\n",
       "      <td>0.000000</td>\n",
       "      <td>0.000000</td>\n",
       "      <td>0</td>\n",
       "      <td>0.000000</td>\n",
       "      <td>0.000000</td>\n",
       "      <td>0.000000</td>\n",
       "    </tr>\n",
       "    <tr>\n",
       "      <th>2214</th>\n",
       "      <td>Travessa M Petit Pois</td>\n",
       "      <td>TABLEWARE</td>\n",
       "      <td>0</td>\n",
       "      <td>5.0</td>\n",
       "      <td>5.0</td>\n",
       "      <td>0</td>\n",
       "      <td>0.00</td>\n",
       "      <td>1417.55</td>\n",
       "      <td>1417.55</td>\n",
       "      <td>0.00</td>\n",
       "      <td>Produto em Ordem</td>\n",
       "      <td>0.000000</td>\n",
       "      <td>0.000000</td>\n",
       "      <td>0</td>\n",
       "      <td>0.000000</td>\n",
       "      <td>0.000000</td>\n",
       "      <td>0.000000</td>\n",
       "    </tr>\n",
       "  </tbody>\n",
       "</table>\n",
       "<p>2215 rows × 17 columns</p>\n",
       "</div>"
      ],
      "text/plain": [
       "                                 Descrição        Portfólio  \\\n",
       "0        Jade Refil Difusor Ambiente 250ml  PERFUMARIA CASA   \n",
       "1                Jade Vela TB Cristal 190G  PERFUMARIA CASA   \n",
       "2                 Jade Sabonete Barra 150G  PERFUMARIA CASA   \n",
       "3     Copo Short Drink Búzios Transparente        TABLEWARE   \n",
       "4      Copo Long Drink Búzios Transparente        TABLEWARE   \n",
       "...                                    ...              ...   \n",
       "2210            Prancha de Surf Copacabana        TABLEWARE   \n",
       "2211                              Taça Mar        TABLEWARE   \n",
       "2212                  Copo Short Drink Mar        TABLEWARE   \n",
       "2213              Xícara de Chá Copacabana        TABLEWARE   \n",
       "2214                 Travessa M Petit Pois        TABLEWARE   \n",
       "\n",
       "      Estoque Inicial (Quant)  Entrada (Quant)  Saída (Quant)  \\\n",
       "0                         600            229.0          400.0   \n",
       "1                           7              NaN            NaN   \n",
       "2                        1989            147.0          409.0   \n",
       "3                         407              0.0           17.0   \n",
       "4                         204             27.0           55.0   \n",
       "...                       ...              ...            ...   \n",
       "2210                        0              3.0            4.0   \n",
       "2211                        0            232.0           92.0   \n",
       "2212                        0            234.0           92.0   \n",
       "2213                        0            120.0          120.0   \n",
       "2214                        0              5.0            5.0   \n",
       "\n",
       "      Estoque Final (Quant)  Estoque Inicial (Valor)  Entrada (Valor)  \\\n",
       "0                       429                 27040.27         10373.66   \n",
       "1                         7                   203.97              NaN   \n",
       "2                      1727                 21665.00          1602.78   \n",
       "3                       390                 19637.62             0.00   \n",
       "4                       176                 10034.31          1328.07   \n",
       "...                     ...                      ...              ...   \n",
       "2210                     -1                     0.00          4085.00   \n",
       "2211                    140                     0.00          7825.36   \n",
       "2212                    142                     0.00          7200.18   \n",
       "2213                      0                     0.00             0.00   \n",
       "2214                      0                     0.00          1417.55   \n",
       "\n",
       "      Saída (Valor)  Estoque Final (Valor)    Status Estoque  \\\n",
       "0          18098.34               19315.59  Produto em Ordem   \n",
       "1               NaN                 203.97  Produto em Ordem   \n",
       "2           4459.23               18808.55  Produto em Ordem   \n",
       "3            821.27               18816.35  Produto em Ordem   \n",
       "4           2705.34                8657.04  Produto em Ordem   \n",
       "...             ...                    ...               ...   \n",
       "2210        2042.50                2042.50  Produto em Falta   \n",
       "2211        3103.16                4722.20  Produto em Ordem   \n",
       "2212        2830.84                4369.34  Produto em Ordem   \n",
       "2213           0.00                   0.00  Produto em Ordem   \n",
       "2214        1417.55                   0.00  Produto em Ordem   \n",
       "\n",
       "      Estoque Final em relação a Estoque Inicial (%)  Custo Unitário  \\\n",
       "0                                           0.715000       45.024685   \n",
       "1                                           1.000000       29.138571   \n",
       "2                                           0.868276       10.890880   \n",
       "3                                           0.958231       48.247051   \n",
       "4                                           0.862745       49.187727   \n",
       "...                                              ...             ...   \n",
       "2210                                        0.000000     2042.500000   \n",
       "2211                                        0.000000       33.730000   \n",
       "2212                                        0.000000       30.770000   \n",
       "2213                                        0.000000        0.000000   \n",
       "2214                                        0.000000        0.000000   \n",
       "\n",
       "      # Vendas Projetadas - 12 meses (Quant)  \\\n",
       "0                                       2347   \n",
       "1                                          4   \n",
       "2                                       3084   \n",
       "3                                        472   \n",
       "4                                        494   \n",
       "...                                      ...   \n",
       "2210                                       0   \n",
       "2211                                      70   \n",
       "2212                                      71   \n",
       "2213                                       0   \n",
       "2214                                       0   \n",
       "\n",
       "      # Vendas Projetadas - 12 meses (Valor)  \\\n",
       "0                              105672.936434   \n",
       "1                                 116.554286   \n",
       "2                               33587.474349   \n",
       "3                               22772.608205   \n",
       "4                               24298.737273   \n",
       "...                                      ...   \n",
       "2210                                0.000000   \n",
       "2211                             2361.100000   \n",
       "2212                             2184.670000   \n",
       "2213                                0.000000   \n",
       "2214                                0.000000   \n",
       "\n",
       "      Vendas Projetadas - Média Mensal  Prazo de venda do Estoque Atual (Mês)  \n",
       "0                           195.583333                               2.193438  \n",
       "1                             0.333333                              21.000000  \n",
       "2                           257.000000                               6.719844  \n",
       "3                            39.333333                               9.915254  \n",
       "4                            41.166667                               4.275304  \n",
       "...                                ...                                    ...  \n",
       "2210                          0.000000                               0.000000  \n",
       "2211                          5.833333                              24.000000  \n",
       "2212                          5.916667                              24.000000  \n",
       "2213                          0.000000                               0.000000  \n",
       "2214                          0.000000                               0.000000  \n",
       "\n",
       "[2215 rows x 17 columns]"
      ]
     },
     "execution_count": 76,
     "metadata": {},
     "output_type": "execute_result"
    }
   ],
   "source": [
    "base_variaveis"
   ]
  },
  {
   "cell_type": "code",
   "execution_count": 77,
   "metadata": {},
   "outputs": [
    {
     "data": {
      "text/plain": [
       "Index(['Descrição', 'Portfólio', 'Estoque Inicial (Quant)', 'Entrada (Quant)',\n",
       "       'Saída (Quant)', 'Estoque Final (Quant)', 'Estoque Inicial (Valor)',\n",
       "       'Entrada (Valor)', 'Saída (Valor)', 'Estoque Final (Valor)',\n",
       "       'Status Estoque', 'Estoque Final em relação a Estoque Inicial (%)',\n",
       "       'Custo Unitário', '# Vendas Projetadas - 12 meses (Quant)',\n",
       "       '# Vendas Projetadas - 12 meses (Valor)',\n",
       "       'Vendas Projetadas - Média Mensal',\n",
       "       'Prazo de venda do Estoque Atual (Mês)'],\n",
       "      dtype='object')"
      ]
     },
     "execution_count": 77,
     "metadata": {},
     "output_type": "execute_result"
    }
   ],
   "source": [
    "base_variaveis.columns"
   ]
  },
  {
   "cell_type": "code",
   "execution_count": 78,
   "metadata": {},
   "outputs": [
    {
     "name": "stdout",
     "output_type": "stream",
     "text": [
      "<class 'pandas.core.frame.DataFrame'>\n",
      "RangeIndex: 2215 entries, 0 to 2214\n",
      "Data columns (total 17 columns):\n",
      " #   Column                                          Non-Null Count  Dtype  \n",
      "---  ------                                          --------------  -----  \n",
      " 0   Descrição                                       2215 non-null   object \n",
      " 1   Portfólio                                       2215 non-null   object \n",
      " 2   Estoque Inicial (Quant)                         2215 non-null   int64  \n",
      " 3   Entrada (Quant)                                 1639 non-null   float64\n",
      " 4   Saída (Quant)                                   1639 non-null   float64\n",
      " 5   Estoque Final (Quant)                           2215 non-null   int64  \n",
      " 6   Estoque Inicial (Valor)                         2215 non-null   float64\n",
      " 7   Entrada (Valor)                                 1639 non-null   float64\n",
      " 8   Saída (Valor)                                   1639 non-null   float64\n",
      " 9   Estoque Final (Valor)                           2215 non-null   float64\n",
      " 10  Status Estoque                                  2215 non-null   object \n",
      " 11  Estoque Final em relação a Estoque Inicial (%)  2215 non-null   float64\n",
      " 12  Custo Unitário                                  2215 non-null   float64\n",
      " 13  # Vendas Projetadas - 12 meses (Quant)          2215 non-null   int64  \n",
      " 14  # Vendas Projetadas - 12 meses (Valor)          2215 non-null   float64\n",
      " 15  Vendas Projetadas - Média Mensal                2215 non-null   float64\n",
      " 16  Prazo de venda do Estoque Atual (Mês)           2215 non-null   float64\n",
      "dtypes: float64(11), int64(3), object(3)\n",
      "memory usage: 294.3+ KB\n"
     ]
    }
   ],
   "source": [
    "base_variaveis.info()"
   ]
  },
  {
   "cell_type": "code",
   "execution_count": 79,
   "metadata": {},
   "outputs": [],
   "source": [
    "base_variaveis['# Vendas Projetadas - 12 meses (Valor)'] = base_variaveis['# Vendas Projetadas - 12 meses (Valor)'].astype('int64')\n"
   ]
  },
  {
   "cell_type": "markdown",
   "metadata": {},
   "source": [
    "O que foi alterado EXCEL:\n",
    "\n",
    "Foi alterados os títulos das colunas do dataset original para um melhor entendimento como um todo. E foi adicionado as seguintes colunas:\n",
    "\n",
    "Status Estoque:\n",
    "Coluna que determina se o produto está positivo ou negativo no estoque.\n",
    "\n",
    "Estoque Final em relação a Estoque Inicial (%):\n",
    "Determina a porcentagem do estoque atual em relação ao o antigo. Com isso é possível determinar qual produto teve um aumento no estoque ou qual produto teve uma baixa no estoque ao decorrer do mês.\n",
    "\n",
    "Vendas Projetadas - 12 meses (Valor):\n",
    "Traz a multiplicação entre a coluna 'Vendas Projetadas' e a coluna 'Custo Unítario', assim conseguindo a receita anual prevista para o produto.\n",
    "\n",
    "Vendas Projetadas - 1 mês (Média Mensal):\n",
    "Determina a média mensal de acordo com a coluna 'Vendas Projetadas para - 12 meses'.\n",
    "\n",
    "Prazo de venda do Estoque Atual (Mensal):\n",
    "Retorna o valor em mês do prazo de venda do estoque atual, se calculo é feito se baseando nas vendas projetadas mensalmente como divisor do Estoque atual. Assim é possível determinar uma previsão a partir da média do valor dos próximos meses."
   ]
  },
  {
   "cell_type": "markdown",
   "metadata": {},
   "source": [
    "### Adicionando Varíaveis (Análise ABC):"
   ]
  },
  {
   "cell_type": "markdown",
   "metadata": {},
   "source": [
    "Aqui eu vou estar encontrando os percentuais em 3 terços (33%, 66%, 100%) das colunas 'Estoque Final (Quant)' e '# Vendas Projetadas - 12 meses (Valor)', afim de criar três coluna de classficação:\n",
    "\n",
    "Classificação Estoque Final (Quant):\n",
    "Para classificar a quantidade atual de produto em estoque em A, B, C. Sendo A poucos produtos, B intermediario, e C grande quantidade de produtos.\n",
    "\n",
    "\n",
    "\n",
    "Classificação Vendas Projetadas (Valor):\n",
    "Para classificar a renda projetada anual em A, B, C. Sendo A produtos com alta renda, B produtos com renda intermediaria, e C produtos com baixa renda.\n",
    "\n",
    "\n",
    "\n",
    "Classificação Prioriodade:\n",
    "Para classificar as combinações entre as classificação 'Estoque Final Quant' e a classificação 'Vendas Projetadas (Valor)'.\n",
    "Sendo as possibilidades (Classificação Estoque Final (Quant) / Classificação Vendas Projetadas (Valor)):\n",
    "\n",
    "AA - Sendo alta prioridade, tendo poucos produtos no estoque e alta renda. \n",
    "\n",
    "AB - Sendo alta prioridade, tendo poucos produtos e renda intermediaria.\n",
    "\n",
    "AC - Sendo média prioridade, tendo poucos produtos e baixa renda.\n",
    "\n",
    "BA - Sendo alta prioridade, tendo quantidade regular de produtos e alta renda.\n",
    "\n",
    "BB - Sendo média prioridade, tendo quantidade regular de produtos e renda intermidiaria.\n",
    "\n",
    "BC - Sendo baixa prioridade, tendo quantidade regular de produtos e baixa renda.\n",
    "\n",
    "CA - Sendo média prioridade, tendo quantidade alta de produtos e alta renda.\n",
    "\n",
    "CB - Sendo baixa prioridade, tendo quantidade alta de produtos e renda intermediaria.\n",
    "\n",
    "CC - Sendo baixa prioridade, tendo quantidade alta de produtos e baixa renda.\n",
    "\n",
    "OBS: A prioridade é no ambito de venda, não se encaixa no ambito de produtos parados."
   ]
  },
  {
   "cell_type": "code",
   "execution_count": 80,
   "metadata": {},
   "outputs": [
    {
     "name": "stdout",
     "output_type": "stream",
     "text": [
      "Valor que separa os 33% da coluna Estoque Final (Quant): , 10.0 produtos\n",
      "Valor que separa os 66% da coluna Estoque Final (Quant): , 138.24 produtos\n",
      "Valor que separa os 100% da coluna Estoque Final (Quant): , 7757.0 produtos\n"
     ]
    }
   ],
   "source": [
    "#Encontrando o porcentual do Estoque atual Quantitativamente.\n",
    "dados_ordenados_quantidade = np.sort(base_variaveis['Estoque Final (Quant)'])\n",
    "\n",
    "percentil_33 = np.percentile(dados_ordenados_quantidade, 33)\n",
    "percentil_66 = np.percentile(dados_ordenados_quantidade, 66)\n",
    "percentil_100 = np.percentile(dados_ordenados_quantidade, 100)\n",
    "\n",
    "\n",
    "print(f\"Valor que separa os 33% da coluna Estoque Final (Quant): , {percentil_33} produtos\")\n",
    "print(f\"Valor que separa os 66% da coluna Estoque Final (Quant): , {percentil_66} produtos\")\n",
    "print(f\"Valor que separa os 100% da coluna Estoque Final (Quant): , {percentil_100} produtos\")"
   ]
  },
  {
   "cell_type": "code",
   "execution_count": 81,
   "metadata": {},
   "outputs": [
    {
     "name": "stdout",
     "output_type": "stream",
     "text": [
      "Valor que separa os 33% da coluna Vendas Projetadas - 12 meses (Valor): R$ 1652.0\n",
      "Valor que separa os 66% da coluna Vendas Projetadas - 12 meses (Valor): R$ 13248.16\n",
      "Valor que separa os 100% da coluna Vendas Projetadas - 12 meses (Valor): R$ 1137030.0\n"
     ]
    }
   ],
   "source": [
    "#Encontrando o porcentual do Estoque atual em questão de Valor.\n",
    "dados_ordenados_valor = np.sort(base_variaveis['# Vendas Projetadas - 12 meses (Valor)'])\n",
    "\n",
    "percentil_33 = np.percentile(dados_ordenados_valor, 33)\n",
    "percentil_66 = np.percentile(dados_ordenados_valor, 66)\n",
    "percentil_100 = np.percentile(dados_ordenados_valor, 100)\n",
    "\n",
    "print(f\"Valor que separa os 33% da coluna Vendas Projetadas - 12 meses (Valor): R$ {percentil_33}\")\n",
    "print(f\"Valor que separa os 66% da coluna Vendas Projetadas - 12 meses (Valor): R$ {percentil_66}\")\n",
    "print(f\"Valor que separa os 100% da coluna Vendas Projetadas - 12 meses (Valor): R$ {percentil_100}\")"
   ]
  },
  {
   "cell_type": "code",
   "execution_count": 82,
   "metadata": {},
   "outputs": [],
   "source": [
    "def classificando_quant(valor):\n",
    "    if valor < 0:\n",
    "        return 'Não aplicavel'\n",
    "    elif valor < 10:\n",
    "        return 'A'\n",
    "    elif valor < 138:\n",
    "        return 'B'\n",
    "    elif valor < 7757:\n",
    "        return 'C'\n",
    "    else:\n",
    "        return 'Não aplicavel'\n",
    "\n",
    "base_variaveis['Classificação Estoque Final (Quant)'] = base_variaveis['Estoque Final (Quant)'].apply(classificando_quant)"
   ]
  },
  {
   "cell_type": "code",
   "execution_count": 83,
   "metadata": {},
   "outputs": [],
   "source": [
    "def classificando_valor(valor):\n",
    "    if valor <= 0:\n",
    "        return 'Não aplicavel'\n",
    "    elif valor < 1653:\n",
    "        return 'C'\n",
    "    elif valor < 13249:\n",
    "        return 'B'\n",
    "    elif valor < 1137031:\n",
    "        return 'A'\n",
    "    else:\n",
    "        return 'Não aplicavel'\n",
    "\n",
    "base_variaveis['Classificação Vendas Projetadas (Valor)'] = base_variaveis['# Vendas Projetadas - 12 meses (Valor)'].apply(classificando_valor) #Vendas Projetadas - 12 meses (Valor) = Projeção de receita de produtos em relação a 1 ano"
   ]
  },
  {
   "cell_type": "code",
   "execution_count": 84,
   "metadata": {},
   "outputs": [],
   "source": [
    "def classificacando_prioridade(coluna_1, coluna_2):\n",
    "    if coluna_1 == 'Não aplicavel' or coluna_2 == 'Não aplicavel':\n",
    "        return 'Não aplicavel'\n",
    "    else:\n",
    "        return coluna_1 + coluna_2\n",
    "        \n",
    "\n",
    "# Aplicando a função às duas colunas e criando a nova coluna\n",
    "base_variaveis['Classificacando prioridade'] = base_variaveis.apply(lambda row: classificacando_prioridade(row['Classificação Estoque Final (Quant)'], row['Classificação Vendas Projetadas (Valor)']), axis=1)\n"
   ]
  },
  {
   "cell_type": "markdown",
   "metadata": {},
   "source": [
    "### Adicionando Varíaveis (Corte de estoque):"
   ]
  },
  {
   "cell_type": "code",
   "execution_count": 85,
   "metadata": {},
   "outputs": [],
   "source": [
    "def classificando_corte_estoque(valor):\n",
    "    if valor <= 0:\n",
    "        return 'Não aplicavel'\n",
    "    elif valor < 0.8:\n",
    "        return 'Disponibilidade menor que 80%'\n",
    "    elif valor < 0.95:\n",
    "        return 'Disponibilidade a 80%'\n",
    "    elif valor < 1:\n",
    "        return 'Disponibilidade a 95%'\n",
    "    elif valor >= 1:\n",
    "        return 'Disponibilidade maior ou igual a 100%'\n",
    "    else:\n",
    "        return 'Não aplicavel'\n",
    "\n",
    "base_variaveis['Concentração de estoque por item coorte: 80%, 95% e 100%'] = base_variaveis['Estoque Final em relação a Estoque Inicial (%)'].apply(classificando_corte_estoque)"
   ]
  },
  {
   "cell_type": "code",
   "execution_count": 86,
   "metadata": {},
   "outputs": [],
   "source": [
    "#Exportando dados\n",
    "base_variaveis.to_excel('./base_AE/(4)base_com_variaveis_e_indicaores(final).xlsx')"
   ]
  }
 ],
 "metadata": {
  "kernelspec": {
   "display_name": "Python 3",
   "language": "python",
   "name": "python3"
  },
  "language_info": {
   "codemirror_mode": {
    "name": "ipython",
    "version": 3
   },
   "file_extension": ".py",
   "mimetype": "text/x-python",
   "name": "python",
   "nbconvert_exporter": "python",
   "pygments_lexer": "ipython3",
   "version": "3.9.6"
  }
 },
 "nbformat": 4,
 "nbformat_minor": 2
}
