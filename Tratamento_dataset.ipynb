{
 "cells": [
  {
   "cell_type": "markdown",
   "metadata": {},
   "source": [
    "### Importando bibliotecas e lendo arquivos"
   ]
  },
  {
   "cell_type": "code",
   "execution_count": 38,
   "metadata": {},
   "outputs": [],
   "source": [
    "# Importando bibliotecas\n",
    "import pandas as pd\n",
    "import numpy as np\n",
    "import seaborn as sns\n",
    "import matplotlib as plt"
   ]
  },
  {
   "cell_type": "code",
   "execution_count": 39,
   "metadata": {},
   "outputs": [],
   "source": [
    "# Lendo arquivo e alocando em uma variavel\n",
    "base_estoque = pd.read_excel('arquivos_base/base_estoque.xlsx')"
   ]
  },
  {
   "cell_type": "markdown",
   "metadata": {},
   "source": [
    "### (ETL) Entendo a tabela e ja fazendo alterações:"
   ]
  },
  {
   "cell_type": "markdown",
   "metadata": {},
   "source": [
    "#### Vizualizando a tabela:"
   ]
  },
  {
   "cell_type": "code",
   "execution_count": 40,
   "metadata": {},
   "outputs": [
    {
     "data": {
      "text/html": [
       "<div>\n",
       "<style scoped>\n",
       "    .dataframe tbody tr th:only-of-type {\n",
       "        vertical-align: middle;\n",
       "    }\n",
       "\n",
       "    .dataframe tbody tr th {\n",
       "        vertical-align: top;\n",
       "    }\n",
       "\n",
       "    .dataframe thead th {\n",
       "        text-align: right;\n",
       "    }\n",
       "</style>\n",
       "<table border=\"1\" class=\"dataframe\">\n",
       "  <thead>\n",
       "    <tr style=\"text-align: right;\">\n",
       "      <th></th>\n",
       "      <th>Descrição</th>\n",
       "      <th>Portfólio</th>\n",
       "      <th>Estoque Inicial</th>\n",
       "      <th>Entrada</th>\n",
       "      <th>Saída</th>\n",
       "      <th>Estoque Final</th>\n",
       "      <th>Estoque Inicial.1</th>\n",
       "      <th>Entrada.1</th>\n",
       "      <th>Saída.1</th>\n",
       "      <th>Estoque Final.1</th>\n",
       "      <th>Custo Unitário</th>\n",
       "      <th># Vendas Projetadas - 12 meses</th>\n",
       "    </tr>\n",
       "  </thead>\n",
       "  <tbody>\n",
       "    <tr>\n",
       "      <th>0</th>\n",
       "      <td>Jade Refil Difusor Ambiente 250ml</td>\n",
       "      <td>PERFUMARIA CASA</td>\n",
       "      <td>600</td>\n",
       "      <td>229.0</td>\n",
       "      <td>400.0</td>\n",
       "      <td>429</td>\n",
       "      <td>27040.27</td>\n",
       "      <td>10373.66</td>\n",
       "      <td>18098.34</td>\n",
       "      <td>19315.59</td>\n",
       "      <td>45.024685</td>\n",
       "      <td>2347</td>\n",
       "    </tr>\n",
       "    <tr>\n",
       "      <th>1</th>\n",
       "      <td>Jade Vela TB Cristal 190G</td>\n",
       "      <td>PERFUMARIA CASA</td>\n",
       "      <td>7</td>\n",
       "      <td>NaN</td>\n",
       "      <td>NaN</td>\n",
       "      <td>7</td>\n",
       "      <td>203.97</td>\n",
       "      <td>NaN</td>\n",
       "      <td>NaN</td>\n",
       "      <td>203.97</td>\n",
       "      <td>29.138571</td>\n",
       "      <td>4</td>\n",
       "    </tr>\n",
       "    <tr>\n",
       "      <th>2</th>\n",
       "      <td>Jade Sabonete Barra 150G</td>\n",
       "      <td>PERFUMARIA CASA</td>\n",
       "      <td>1989</td>\n",
       "      <td>147.0</td>\n",
       "      <td>409.0</td>\n",
       "      <td>1727</td>\n",
       "      <td>21665.00</td>\n",
       "      <td>1602.78</td>\n",
       "      <td>4459.23</td>\n",
       "      <td>18808.55</td>\n",
       "      <td>10.890880</td>\n",
       "      <td>3084</td>\n",
       "    </tr>\n",
       "    <tr>\n",
       "      <th>3</th>\n",
       "      <td>Copo Short Drink Búzios Transparente</td>\n",
       "      <td>TABLEWARE</td>\n",
       "      <td>407</td>\n",
       "      <td>0.0</td>\n",
       "      <td>17.0</td>\n",
       "      <td>390</td>\n",
       "      <td>19637.62</td>\n",
       "      <td>0.00</td>\n",
       "      <td>821.27</td>\n",
       "      <td>18816.35</td>\n",
       "      <td>48.247051</td>\n",
       "      <td>472</td>\n",
       "    </tr>\n",
       "    <tr>\n",
       "      <th>4</th>\n",
       "      <td>Copo Long Drink Búzios Transparente</td>\n",
       "      <td>TABLEWARE</td>\n",
       "      <td>204</td>\n",
       "      <td>27.0</td>\n",
       "      <td>55.0</td>\n",
       "      <td>176</td>\n",
       "      <td>10034.31</td>\n",
       "      <td>1328.07</td>\n",
       "      <td>2705.34</td>\n",
       "      <td>8657.04</td>\n",
       "      <td>49.187727</td>\n",
       "      <td>494</td>\n",
       "    </tr>\n",
       "    <tr>\n",
       "      <th>...</th>\n",
       "      <td>...</td>\n",
       "      <td>...</td>\n",
       "      <td>...</td>\n",
       "      <td>...</td>\n",
       "      <td>...</td>\n",
       "      <td>...</td>\n",
       "      <td>...</td>\n",
       "      <td>...</td>\n",
       "      <td>...</td>\n",
       "      <td>...</td>\n",
       "      <td>...</td>\n",
       "      <td>...</td>\n",
       "    </tr>\n",
       "    <tr>\n",
       "      <th>2210</th>\n",
       "      <td>Prancha de Surf Copacabana</td>\n",
       "      <td>TABLEWARE</td>\n",
       "      <td>0</td>\n",
       "      <td>3.0</td>\n",
       "      <td>4.0</td>\n",
       "      <td>-1</td>\n",
       "      <td>0.00</td>\n",
       "      <td>4085.00</td>\n",
       "      <td>2042.50</td>\n",
       "      <td>2042.50</td>\n",
       "      <td>-2042.500000</td>\n",
       "      <td>0</td>\n",
       "    </tr>\n",
       "    <tr>\n",
       "      <th>2211</th>\n",
       "      <td>Taça Mar</td>\n",
       "      <td>TABLEWARE</td>\n",
       "      <td>0</td>\n",
       "      <td>232.0</td>\n",
       "      <td>92.0</td>\n",
       "      <td>140</td>\n",
       "      <td>0.00</td>\n",
       "      <td>7825.36</td>\n",
       "      <td>3103.16</td>\n",
       "      <td>4722.20</td>\n",
       "      <td>33.730000</td>\n",
       "      <td>70</td>\n",
       "    </tr>\n",
       "    <tr>\n",
       "      <th>2212</th>\n",
       "      <td>Copo Short Drink Mar</td>\n",
       "      <td>TABLEWARE</td>\n",
       "      <td>0</td>\n",
       "      <td>234.0</td>\n",
       "      <td>92.0</td>\n",
       "      <td>142</td>\n",
       "      <td>0.00</td>\n",
       "      <td>7200.18</td>\n",
       "      <td>2830.84</td>\n",
       "      <td>4369.34</td>\n",
       "      <td>30.770000</td>\n",
       "      <td>71</td>\n",
       "    </tr>\n",
       "    <tr>\n",
       "      <th>2213</th>\n",
       "      <td>Xícara de Chá Copacabana</td>\n",
       "      <td>TABLEWARE</td>\n",
       "      <td>0</td>\n",
       "      <td>120.0</td>\n",
       "      <td>120.0</td>\n",
       "      <td>0</td>\n",
       "      <td>0.00</td>\n",
       "      <td>0.00</td>\n",
       "      <td>0.00</td>\n",
       "      <td>0.00</td>\n",
       "      <td>0.000000</td>\n",
       "      <td>0</td>\n",
       "    </tr>\n",
       "    <tr>\n",
       "      <th>2214</th>\n",
       "      <td>Travessa M Petit Pois</td>\n",
       "      <td>TABLEWARE</td>\n",
       "      <td>0</td>\n",
       "      <td>5.0</td>\n",
       "      <td>5.0</td>\n",
       "      <td>0</td>\n",
       "      <td>0.00</td>\n",
       "      <td>1417.55</td>\n",
       "      <td>1417.55</td>\n",
       "      <td>0.00</td>\n",
       "      <td>0.000000</td>\n",
       "      <td>0</td>\n",
       "    </tr>\n",
       "  </tbody>\n",
       "</table>\n",
       "<p>2215 rows × 12 columns</p>\n",
       "</div>"
      ],
      "text/plain": [
       "                                 Descrição        Portfólio  Estoque Inicial  \\\n",
       "0        Jade Refil Difusor Ambiente 250ml  PERFUMARIA CASA              600   \n",
       "1                Jade Vela TB Cristal 190G  PERFUMARIA CASA                7   \n",
       "2                 Jade Sabonete Barra 150G  PERFUMARIA CASA             1989   \n",
       "3     Copo Short Drink Búzios Transparente        TABLEWARE              407   \n",
       "4      Copo Long Drink Búzios Transparente        TABLEWARE              204   \n",
       "...                                    ...              ...              ...   \n",
       "2210            Prancha de Surf Copacabana        TABLEWARE                0   \n",
       "2211                              Taça Mar        TABLEWARE                0   \n",
       "2212                  Copo Short Drink Mar        TABLEWARE                0   \n",
       "2213              Xícara de Chá Copacabana        TABLEWARE                0   \n",
       "2214                 Travessa M Petit Pois        TABLEWARE                0   \n",
       "\n",
       "      Entrada  Saída  Estoque Final  Estoque Inicial.1  Entrada.1   Saída.1  \\\n",
       "0       229.0  400.0            429           27040.27   10373.66  18098.34   \n",
       "1         NaN    NaN              7             203.97        NaN       NaN   \n",
       "2       147.0  409.0           1727           21665.00    1602.78   4459.23   \n",
       "3         0.0   17.0            390           19637.62       0.00    821.27   \n",
       "4        27.0   55.0            176           10034.31    1328.07   2705.34   \n",
       "...       ...    ...            ...                ...        ...       ...   \n",
       "2210      3.0    4.0             -1               0.00    4085.00   2042.50   \n",
       "2211    232.0   92.0            140               0.00    7825.36   3103.16   \n",
       "2212    234.0   92.0            142               0.00    7200.18   2830.84   \n",
       "2213    120.0  120.0              0               0.00       0.00      0.00   \n",
       "2214      5.0    5.0              0               0.00    1417.55   1417.55   \n",
       "\n",
       "      Estoque Final.1  Custo Unitário  # Vendas Projetadas - 12 meses  \n",
       "0            19315.59       45.024685                            2347  \n",
       "1              203.97       29.138571                               4  \n",
       "2            18808.55       10.890880                            3084  \n",
       "3            18816.35       48.247051                             472  \n",
       "4             8657.04       49.187727                             494  \n",
       "...               ...             ...                             ...  \n",
       "2210          2042.50    -2042.500000                               0  \n",
       "2211          4722.20       33.730000                              70  \n",
       "2212          4369.34       30.770000                              71  \n",
       "2213             0.00        0.000000                               0  \n",
       "2214             0.00        0.000000                               0  \n",
       "\n",
       "[2215 rows x 12 columns]"
      ]
     },
     "execution_count": 40,
     "metadata": {},
     "output_type": "execute_result"
    }
   ],
   "source": [
    "#Dando uma olhada por cima da tabela\n",
    "base_estoque"
   ]
  },
  {
   "cell_type": "code",
   "execution_count": 41,
   "metadata": {},
   "outputs": [
    {
     "data": {
      "text/plain": [
       "(2215, 12)"
      ]
     },
     "execution_count": 41,
     "metadata": {},
     "output_type": "execute_result"
    }
   ],
   "source": [
    "#Entendo o tamanho da tabela\n",
    "base_estoque.shape"
   ]
  },
  {
   "cell_type": "markdown",
   "metadata": {},
   "source": [
    "#### Vizualizando os types e alterando:"
   ]
  },
  {
   "cell_type": "code",
   "execution_count": 42,
   "metadata": {},
   "outputs": [
    {
     "name": "stdout",
     "output_type": "stream",
     "text": [
      "<class 'pandas.core.frame.DataFrame'>\n",
      "RangeIndex: 2215 entries, 0 to 2214\n",
      "Data columns (total 12 columns):\n",
      " #   Column                          Non-Null Count  Dtype  \n",
      "---  ------                          --------------  -----  \n",
      " 0   Descrição                       2215 non-null   object \n",
      " 1   Portfólio                       2215 non-null   object \n",
      " 2   Estoque Inicial                 2215 non-null   int64  \n",
      " 3   Entrada                         1639 non-null   float64\n",
      " 4   Saída                           1639 non-null   float64\n",
      " 5   Estoque Final                   2215 non-null   int64  \n",
      " 6   Estoque Inicial.1               2215 non-null   float64\n",
      " 7   Entrada.1                       1639 non-null   float64\n",
      " 8   Saída.1                         1639 non-null   float64\n",
      " 9   Estoque Final.1                 2215 non-null   float64\n",
      " 10  Custo Unitário                  2215 non-null   float64\n",
      " 11  # Vendas Projetadas - 12 meses  2215 non-null   int64  \n",
      "dtypes: float64(7), int64(3), object(2)\n",
      "memory usage: 207.8+ KB\n"
     ]
    }
   ],
   "source": [
    "# Entendendo os types dos dados\n",
    "base_estoque.info()"
   ]
  },
  {
   "cell_type": "code",
   "execution_count": 43,
   "metadata": {},
   "outputs": [],
   "source": [
    "# Transformando object em string para ser mais facil na hora de transferir para o SQL e não dar incompatibilidade.\n",
    "\n",
    "# Transformando Descrição\n",
    "base_estoque['Descrição'] = base_estoque['Descrição'].astype(pd.StringDtype())\n",
    "\n",
    "# Transoformando Portfólio\n",
    "base_estoque['Portfólio'] = base_estoque['Portfólio'].astype(pd.StringDtype())"
   ]
  },
  {
   "cell_type": "code",
   "execution_count": 44,
   "metadata": {},
   "outputs": [
    {
     "name": "stdout",
     "output_type": "stream",
     "text": [
      "<class 'pandas.core.frame.DataFrame'>\n",
      "RangeIndex: 2215 entries, 0 to 2214\n",
      "Data columns (total 12 columns):\n",
      " #   Column                          Non-Null Count  Dtype  \n",
      "---  ------                          --------------  -----  \n",
      " 0   Descrição                       2215 non-null   string \n",
      " 1   Portfólio                       2215 non-null   string \n",
      " 2   Estoque Inicial                 2215 non-null   int64  \n",
      " 3   Entrada                         1639 non-null   float64\n",
      " 4   Saída                           1639 non-null   float64\n",
      " 5   Estoque Final                   2215 non-null   int64  \n",
      " 6   Estoque Inicial.1               2215 non-null   float64\n",
      " 7   Entrada.1                       1639 non-null   float64\n",
      " 8   Saída.1                         1639 non-null   float64\n",
      " 9   Estoque Final.1                 2215 non-null   float64\n",
      " 10  Custo Unitário                  2215 non-null   float64\n",
      " 11  # Vendas Projetadas - 12 meses  2215 non-null   int64  \n",
      "dtypes: float64(7), int64(3), string(2)\n",
      "memory usage: 207.8 KB\n"
     ]
    }
   ],
   "source": [
    "# Averiquando se está correto a transformação\n",
    "base_estoque.info()"
   ]
  },
  {
   "cell_type": "markdown",
   "metadata": {},
   "source": [
    "#### Vizualizando nulls e valores nulos (0), e tomando decisões:"
   ]
  },
  {
   "cell_type": "code",
   "execution_count": 45,
   "metadata": {},
   "outputs": [
    {
     "data": {
      "text/plain": [
       "Descrição                           0\n",
       "Portfólio                           0\n",
       "Estoque Inicial                     0\n",
       "Entrada                           576\n",
       "Saída                             576\n",
       "Estoque Final                       0\n",
       "Estoque Inicial.1                   0\n",
       "Entrada.1                         576\n",
       "Saída.1                           576\n",
       "Estoque Final.1                     0\n",
       "Custo Unitário                      0\n",
       "# Vendas Projetadas - 12 meses      0\n",
       "dtype: int64"
      ]
     },
     "execution_count": 45,
     "metadata": {},
     "output_type": "execute_result"
    }
   ],
   "source": [
    "# Identificando a quantidade de nulls de duas formas, a forma \" \" e a forma \"(vazio)\"\n",
    "\n",
    "#retorna o número de valores ausentes na forma \" \" para cada coluna.\n",
    "base_estoque.isna().sum()"
   ]
  },
  {
   "cell_type": "markdown",
   "metadata": {},
   "source": [
    "Coméntario:\n",
    "\n",
    "Dando uma olhada pelo excel, onde é mais facil a vizualização da tabela como um todo neste caso. Os nulos no formato ' ' só ocorrem quando não a alteração no estoque (estoque inicial = estoque final), portanto no caso esses nulos tem valor de négocio.\n",
    "\n",
    "OBS: Acontece uma situação pararecida quando em relação a '-' (0), já que quando somente uma alteração no estoque acontece seja ela 'entrada' ou 'saída' ocorre que a outra parte sendo ela 'entrada' ou 'saída' será '-' (0). Assim o valor '-' = 0, é relevante para o négocio."
   ]
  },
  {
   "cell_type": "code",
   "execution_count": 46,
   "metadata": {},
   "outputs": [
    {
     "name": "stdout",
     "output_type": "stream",
     "text": [
      "Contagem de '(vazio)' em cada coluna:\n",
      "Descrição: 38\n",
      "Portfólio: 0\n",
      "Estoque Inicial: 0\n",
      "Entrada: 0\n",
      "Saída: 0\n",
      "Estoque Final: 0\n",
      "Estoque Inicial.1: 0\n",
      "Entrada.1: 0\n",
      "Saída.1: 0\n",
      "Estoque Final.1: 0\n",
      "Custo Unitário: 0\n",
      "# Vendas Projetadas - 12 meses: 0\n",
      "\n",
      "Dimensões:\n",
      "(2215, 12)\n"
     ]
    }
   ],
   "source": [
    "#Calculando a quantidade de '(vazio)' por coluna\n",
    "\n",
    "#Criando dicionario para armazenar a contagem de '(vazio)' por coluna\n",
    "contagens_por_coluna = {}\n",
    "\n",
    "#Contando '(vazio)' por coluna\n",
    "for coluna in base_estoque.columns:\n",
    "    contagem = base_estoque[coluna].astype(str).str.count('(vazio)').sum()\n",
    "    contagens_por_coluna[coluna] = contagem\n",
    "\n",
    "#Mostrando a contagem\n",
    "print(\"Contagem de '(vazio)' em cada coluna:\")\n",
    "for coluna, contagem in contagens_por_coluna.items():\n",
    "    print(f\"{coluna}: {contagem}\")\n",
    "\n",
    "#Identificando as dimensões para ver se foi corretamente excluido posteriormente\n",
    "print('')\n",
    "print('Dimensões:')\n",
    "print(base_estoque.shape)"
   ]
  },
  {
   "cell_type": "markdown",
   "metadata": {},
   "source": [
    "Coméntario:\n",
    "\n",
    "Também Dando uma olhada pelo excel. É possível notar que os valores nulos no formato '(vazio)' presentes só na coluna descrição acarretam em 'linhas mortas'. 'Linhas mortas' essas que possuem dados nas colunas 'Entrada', 'Saída', 'Estoque Inicial', 'Estoque Final', mas por não possuiem a descrição do produto, portanto essas colunas acabam por não ter valor de négocio. O que poderia ser feito para corrigir isso seria: Ou entrar em contato com a fonte dos dados para ajustar esses detalhes e recuperar informações. Ou assumir que será perdido determinada quantidade de informações e excluir as linhas. Nesse caso como eu não tenho contato com a fonte dos dados, vou excluir essas linhas e continuar a análise.\n",
    "\n",
    "OBS: Estou mantendo a versão antes da análise da tabela em um repositorio privado, e em caso de necessidade é possível recuperar este dataframe."
   ]
  },
  {
   "cell_type": "code",
   "execution_count": 47,
   "metadata": {},
   "outputs": [],
   "source": [
    "#Derrubando as linhas que possuem valores nulos no formato '(vazio)' na coluna 'Descrição'\n",
    "\n",
    "base_estoque = base_estoque[base_estoque['Descrição'] != '(vazio)']\n",
    "    "
   ]
  },
  {
   "cell_type": "code",
   "execution_count": 48,
   "metadata": {},
   "outputs": [
    {
     "name": "stdout",
     "output_type": "stream",
     "text": [
      "Contagem de '(vazio)' em cada coluna:\n",
      "Descrição: 0\n",
      "Portfólio: 0\n",
      "Estoque Inicial: 0\n",
      "Entrada: 0\n",
      "Saída: 0\n",
      "Estoque Final: 0\n",
      "Estoque Inicial.1: 0\n",
      "Entrada.1: 0\n",
      "Saída.1: 0\n",
      "Estoque Final.1: 0\n",
      "Custo Unitário: 0\n",
      "# Vendas Projetadas - 12 meses: 0\n",
      "\n",
      "Dimensões:\n",
      "(2177, 12)\n"
     ]
    }
   ],
   "source": [
    "#Averiguando se foi excluido as linhas corretamente\n",
    "contagens_por_coluna = {}\n",
    "\n",
    "for coluna in base_estoque.columns:\n",
    "    contagem = base_estoque[coluna].astype(str).str.count('(vazio)').sum()\n",
    "    contagens_por_coluna[coluna] = contagem\n",
    "\n",
    "print(\"Contagem de '(vazio)' em cada coluna:\")\n",
    "for coluna, contagem in contagens_por_coluna.items():\n",
    "    print(f\"{coluna}: {contagem}\")\n",
    "\n",
    "print('')\n",
    "print('Dimensões:')\n",
    "print(base_estoque.shape)"
   ]
  },
  {
   "cell_type": "markdown",
   "metadata": {},
   "source": [
    "#### Entendendo cada coluna:"
   ]
  },
  {
   "cell_type": "code",
   "execution_count": null,
   "metadata": {},
   "outputs": [],
   "source": [
    "# Analisar cada coluna, ver se tem algo de errado\n",
    "# Fazer os indicadores e novas variaveis (Excel ou Python)\n",
    "# Fazer o GROUP BY (SQL ou Python)\n",
    "# Fazer análises de acordo com o GROUP BY\n",
    "# Fazer gráficos\n",
    "# Fazer dashboards para cada produto ???"
   ]
  }
 ],
 "metadata": {
  "kernelspec": {
   "display_name": "Python 3",
   "language": "python",
   "name": "python3"
  },
  "language_info": {
   "codemirror_mode": {
    "name": "ipython",
    "version": 3
   },
   "file_extension": ".py",
   "mimetype": "text/x-python",
   "name": "python",
   "nbconvert_exporter": "python",
   "pygments_lexer": "ipython3",
   "version": "3.9.6"
  }
 },
 "nbformat": 4,
 "nbformat_minor": 2
}
